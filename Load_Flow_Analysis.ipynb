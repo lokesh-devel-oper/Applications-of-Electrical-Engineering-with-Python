{
  "nbformat": 4,
  "nbformat_minor": 0,
  "metadata": {
    "colab": {
      "name": "Load Flow Analysis.ipynb",
      "provenance": []
    },
    "kernelspec": {
      "name": "python3",
      "display_name": "Python 3"
    },
    "language_info": {
      "name": "python"
    }
  },
  "cells": [
    {
      "cell_type": "markdown",
      "metadata": {
        "id": "67t-7fvDiLxR"
      },
      "source": [
        "# Finding Y-Bus, Z-Bus, V-Bus"
      ]
    },
    {
      "cell_type": "code",
      "metadata": {
        "colab": {
          "base_uri": "https://localhost:8080/"
        },
        "id": "8OJgVyLwiEZd",
        "outputId": "f9f602f0-c586-48ad-9a12-12fea51dcd43"
      },
      "source": [
        "import numpy as np\n",
        "z = [0,1,0,1.0,0,2,0,0.8,1,2,0,0.4,1,3,0,0.2,2,3,0,0.2,3,4,0,0.08]\n",
        "arr = np.array(z)\n",
        "zdata = arr.reshape(6,4)\n",
        "nd=[]\n",
        "for i in range(len(zdata)):\n",
        "    if (zdata[i][0]!=0):\n",
        "        nd.append(zdata[i])\n",
        "zdata1=np.array(nd)\n",
        "inl = zdata[:,0]\n",
        "nl_tmp = inl.astype('int64')\n",
        "nl = inl.astype('complex')\n",
        "inr = zdata[:,1]\n",
        "nr_tmp = inr.astype('int64')\n",
        "nr = inr.astype('complex')\n",
        "R = zdata[:,2]\n",
        "X = zdata[:,3]\n",
        "nbr = len(nl)\n",
        "nbus = int(max(max(nl_tmp),max(nr_tmp)))\n",
        "#Y = np.zeros((nbus,nbus))\n",
        "Z = [a+1j*b for(a,b) in zip(R,X)]\n",
        "#y = np.ones((nbr,1))/Z\n",
        "y = []\n",
        "for i in (Z):\n",
        "    y.append((1/i))\n",
        "y = np.array(y)\n",
        "for i in range (0,len(nl)):\n",
        "    nl[i]=nl[i]+0j\n",
        "for j in nr:\n",
        "    nr[i]=nr[i]+0j\n",
        "    \n",
        "Y=[]\n",
        "for i in range(nbus*4):\n",
        "    Y.append(0j)\n",
        "Y = np.array(Y)\n",
        "Y = Y.reshape(nbus,nbus)\n",
        "a=[]\n",
        "v=[]\n",
        "#For diagonal \n",
        "for n in range(0,nbus):\n",
        "    for m in range(0,nbr):\n",
        "        if nl[m] == n+1 or nr[m] == n+1:\n",
        "            Y[n,n]=Y[n,n] + y[m]\n",
        "a.append([1,1])\n",
        "v.append(Y[1,1])\n",
        "a.append([0,0])\n",
        "v.append(Y[0,0])\n",
        "a.append([2,2])\n",
        "v.append(Y[2,2])\n",
        "a.append([3,3])\n",
        "v.append(Y[3,3])\n",
        "\n",
        "inl = zdata1[:,0]\n",
        "nl_tmp = inl.astype('int64')\n",
        "nl = inl.astype('complex')\n",
        "inr = zdata1[:,1]\n",
        "nr_tmp = inr.astype('int64')\n",
        "nr = inr.astype('complex')\n",
        "R = zdata1[:,2]\n",
        "X = zdata1[:,3]\n",
        "nbr = len(nl)\n",
        "nbus = int(max(max(nl_tmp),max(nr_tmp)))\n",
        "#Y = np.zeros((nbus,nbus))\n",
        "Z = [a+1j*b for(a,b) in zip(R,X)]\n",
        "#y = np.ones((nbr,1))/Z\n",
        "y = []\n",
        "for i in (Z):\n",
        "    y.append((1/i))\n",
        "d={}\n",
        "for i in range (len(nl_tmp)):\n",
        "    if(nl_tmp[i] not in d):\n",
        "        d[int(nl_tmp[i])]=int(nr_tmp[i])\n",
        "    else:\n",
        "        if(type(d[nl_tmp[i]])=='list'):\n",
        "            d[int(nl_tmp[i])].append(int(nr_tmp[i]))\n",
        "        else:    \n",
        "            l=[]\n",
        "            l.append(int(d[nl_tmp[i]]))\n",
        "            l.append(int(nr_tmp[i]))\n",
        "            d[int(nl_tmp[i])]=l\n",
        "\n",
        "for i in range(len(nl_tmp)):    \n",
        "    for j in range(len(nl_tmp)):\n",
        "        if ((nl_tmp[j] > 0) and (nr_tmp[j] > 0)):\n",
        "                    if(nl_tmp[i] in d.keys()):\n",
        "                        if(str(type(d[nl_tmp[i]]))==\"<class 'list'>\"):\n",
        "                            if (int(nr_tmp[j]) in d[nl_tmp[i]]):\n",
        "                                if(([i,j] in a)):\n",
        "                                    val=v[a.index([i,j])]\n",
        "                                    Y[i,j]=val\n",
        "                                elif(([j,i] in a)):\n",
        "                                    val=v[a.index([j,i])]\n",
        "                                    Y[j,i]=val\n",
        "                                else:\n",
        "                                    for k in range(i,j):\n",
        "                                        Y[i,j]=-y[k]\n",
        "                                        Y[j,i]=Y[i,j]\n",
        "                                        a.append([i,j])\n",
        "                                        a.append([j,i])\n",
        "                                        v.append(Y[i,j])\n",
        "                                        v.append(Y[j,i])\n",
        "                        else:\n",
        "                            if(int(nr_tmp[j]) == int(d[nl_tmp[i]])):\n",
        "                                if(([i,j] in a)):\n",
        "                                    val=v[a.index([i,j])]\n",
        "                                    Y[i,j]=val\n",
        "                                elif(([k,i] in a)):\n",
        "                                    val=v[a.index([j,i])]\n",
        "                                    Y[j,i]=val\n",
        "                                else:\n",
        "                                    for k in range(i,j):\n",
        "                                        Y[i,j]=-y[k]\n",
        "                                        Y[j,i]=Y[i,j]\n",
        "                                        a.append([i,j])\n",
        "                                        a.append([j,i])\n",
        "                                        v.append(Y[i,j])\n",
        "                                        v.append(Y[j,i])\n",
        "\n",
        "Y[nbr-2,nbr-1]=-y[nbr-1]\n",
        "Y[nbr-1,nbr-2]=-y[nbr-1]\n",
        "\n",
        "Zbus = np.linalg.inv(Y)\n",
        "Ibus = [0-1j*1.1, 0-1j*1.25,0,0]\n",
        "Vbus = Ibus*Zbus\n",
        "\n",
        "vbus=[]\n",
        "for i in Vbus:\n",
        "    vbus.append(np.round(sum(i),3))\n",
        "print('-----Ybus----- ')\n",
        "print(Y)\n",
        "\n",
        "print('-----Zbus-----')\n",
        "print(Zbus)\n",
        "\n",
        "print('-----Vbus-----')\n",
        "for i in vbus:\n",
        "    print(i)"
      ],
      "execution_count": null,
      "outputs": [
        {
          "output_type": "stream",
          "name": "stdout",
          "text": [
            "-----Ybus----- \n",
            "[[ 0. -8.5j  -0. +2.5j  -0. +5.j    0. +0.j  ]\n",
            " [-0. +2.5j   0. -8.75j -0. +5.j    0. +0.j  ]\n",
            " [-0. +5.j   -0. +5.j    0.-22.5j  -0.+12.5j ]\n",
            " [ 0. +0.j    0. +0.j   -0.+12.5j   0.-12.5j ]]\n",
            "-----Zbus-----\n",
            "[[0.+0.5j   0.+0.4j   0.+0.45j  0.+0.45j ]\n",
            " [0.+0.4j   0.+0.48j  0.+0.44j  0.+0.44j ]\n",
            " [0.+0.45j  0.+0.44j  0.+0.545j 0.+0.545j]\n",
            " [0.+0.45j  0.+0.44j  0.+0.545j 0.+0.625j]]\n",
            "-----Vbus-----\n",
            "(1.05+0j)\n",
            "(1.04+0j)\n",
            "(1.045+0j)\n",
            "(1.045+0j)\n"
          ]
        }
      ]
    },
    {
      "cell_type": "markdown",
      "metadata": {
        "id": "3zkCGIVaie6Z"
      },
      "source": [
        "# Gaus Seidal Method"
      ]
    },
    {
      "cell_type": "code",
      "metadata": {
        "colab": {
          "base_uri": "https://localhost:8080/"
        },
        "id": "_VtGdTiYhNHT",
        "outputId": "592b647c-bffb-4bf0-8a01-c807a09864d1"
      },
      "source": [
        "dx = 1\n",
        "x = 2\n",
        "Iter = 0\n",
        "print('Iter        g          dx              x')\n",
        "while abs(dx) >= 0.001 and Iter < 100:\n",
        "    Iter = Iter + 1\n",
        "    g = (-1/9*x**3)+(6/9*x**2)+(4/9)\n",
        "    dx = g-x\n",
        "    x = x+dx\n",
        "    print(Iter,'      ',round(g,4),'    ',round(dx,4),'        ',round(x,4))"
      ],
      "execution_count": null,
      "outputs": [
        {
          "output_type": "stream",
          "name": "stdout",
          "text": [
            "Iter        g          dx              x\n",
            "1        2.2222      0.2222          2.2222\n",
            "2        2.5173      0.2951          2.5173\n",
            "3        2.8966      0.3793          2.8966\n",
            "4        3.3376      0.441          3.3376\n",
            "5        3.7398      0.4022          3.7398\n",
            "6        3.9568      0.217          3.9568\n",
            "7        3.9988      0.042          3.9988\n",
            "8        4.0      0.0012          4.0\n",
            "9        4.0      0.0          4.0\n"
          ]
        }
      ]
    },
    {
      "cell_type": "markdown",
      "metadata": {
        "id": "tHtYDpJTit3D"
      },
      "source": [
        "# Newton Rapson Method"
      ]
    },
    {
      "cell_type": "code",
      "metadata": {
        "colab": {
          "base_uri": "https://localhost:8080/"
        },
        "id": "dmzU137UioCD",
        "outputId": "d8e3e8b2-763b-477d-cc37-89a294ce03b0"
      },
      "source": [
        "dx = 1\n",
        "x = int(input('Enter initial estimate: '))\n",
        "Iter = 0\n",
        "print('dc           j           dx           x')\n",
        "while abs(dx) >= 0.001 and Iter < 100:\n",
        "    Iter = Iter+1\n",
        "    dc = 0 - ((x**3) - (6*x**2) + (9*x) - 4)\n",
        "    j = (3*x**2) - (12*x) + 9\n",
        "    dx = dc/j\n",
        "    x = x+dx\n",
        "    print(round(dc,4),'   ',round(j,4),'   ',round(dx,4),'   ',round(x,4))"
      ],
      "execution_count": null,
      "outputs": [
        {
          "output_type": "stream",
          "name": "stdout",
          "text": [
            "Enter initial estimate: 6\n",
            "dc           j           dx           x\n",
            "-50     45     -1.1111     4.8889\n",
            "-13.4431     22.037     -0.61     4.2789\n",
            "-2.9981     12.5797     -0.2383     4.0405\n",
            "-0.3748     9.4914     -0.0395     4.0011\n",
            "-0.0095     9.0126     -0.0011     4.0\n",
            "-0.0     9.0     -0.0     4.0\n"
          ]
        }
      ]
    },
    {
      "cell_type": "code",
      "metadata": {
        "id": "wHm0qo6ui1nU"
      },
      "source": [
        ""
      ],
      "execution_count": null,
      "outputs": []
    }
  ]
}